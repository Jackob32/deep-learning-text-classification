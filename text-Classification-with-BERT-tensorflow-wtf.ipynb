{
 "cells": [
  {
   "cell_type": "code",
   "execution_count": null,
   "metadata": {
    "pycharm": {
     "metadata": false,
     "name": "#%%\n"
    }
   },
   "outputs": [],
   "source": [
    "%https://towardsdatascience.com/how-to-do-text-binary-classification-with-bert-f1348a25d905"
   ]
  },
  {
   "cell_type": "code",
   "execution_count": 1,
   "metadata": {
    "pycharm": {
     "metadata": false,
     "name": "#%%\n"
    }
   },
   "outputs": [
    {
     "name": "stdout",
     "output_type": "stream",
     "text": [
      "Collecting bert-text\n",
      "  Downloading https://files.pythonhosted.org/packages/0e/90/271a67bfa4940c5a7d763a5e2091076d476da6dcd2af89c38847b5933f5b/bert_text-0.1.0-py3-none-any.whl\n",
      "Requirement already satisfied: numpy in c:\\users\\jakub\\anaconda3\\lib\\site-packages (from bert-text) (1.17.4)\n",
      "Collecting tensorflow-gpu (from bert-text)\n",
      "  Downloading https://files.pythonhosted.org/packages/63/13/ea9ff554aa0043540a2387c28dd7926575eb25cf89e598caecea836d189d/tensorflow_gpu-2.0.0-cp37-cp37m-win_amd64.whl (285.3MB)\n",
      "Requirement already satisfied: pandas in c:\\users\\jakub\\anaconda3\\lib\\site-packages (from bert-text) (0.25.3)\n",
      "Requirement already satisfied: astor>=0.6.0 in c:\\users\\jakub\\anaconda3\\lib\\site-packages (from tensorflow-gpu->bert-text) (0.8.0)\n",
      "Collecting tensorboard<2.1.0,>=2.0.0 (from tensorflow-gpu->bert-text)\n",
      "  Downloading https://files.pythonhosted.org/packages/76/54/99b9d5d52d5cb732f099baaaf7740403e83fe6b0cedde940fabd2b13d75a/tensorboard-2.0.2-py3-none-any.whl (3.8MB)\n",
      "Requirement already satisfied: wrapt>=1.11.1 in c:\\users\\jakub\\anaconda3\\lib\\site-packages (from tensorflow-gpu->bert-text) (1.11.2)\n",
      "Requirement already satisfied: absl-py>=0.7.0 in c:\\users\\jakub\\anaconda3\\lib\\site-packages (from tensorflow-gpu->bert-text) (0.8.1)\n",
      "Requirement already satisfied: grpcio>=1.8.6 in c:\\users\\jakub\\anaconda3\\lib\\site-packages (from tensorflow-gpu->bert-text) (1.16.1)\n",
      "Requirement already satisfied: wheel>=0.26 in c:\\users\\jakub\\anaconda3\\lib\\site-packages (from tensorflow-gpu->bert-text) (0.33.6)\n",
      "Collecting gast==0.2.2 (from tensorflow-gpu->bert-text)\n",
      "  Downloading https://files.pythonhosted.org/packages/4e/35/11749bf99b2d4e3cceb4d55ca22590b0d7c2c62b9de38ac4a4a7f4687421/gast-0.2.2.tar.gz\n",
      "Requirement already satisfied: keras-preprocessing>=1.0.5 in c:\\users\\jakub\\anaconda3\\lib\\site-packages (from tensorflow-gpu->bert-text) (1.1.0)\n",
      "Collecting tensorflow-estimator<2.1.0,>=2.0.0 (from tensorflow-gpu->bert-text)\n",
      "  Downloading https://files.pythonhosted.org/packages/fc/08/8b927337b7019c374719145d1dceba21a8bb909b93b1ad6f8fb7d22c1ca1/tensorflow_estimator-2.0.1-py2.py3-none-any.whl (449kB)\n",
      "Requirement already satisfied: six>=1.10.0 in c:\\users\\jakub\\anaconda3\\lib\\site-packages (from tensorflow-gpu->bert-text) (1.13.0)\n",
      "Requirement already satisfied: termcolor>=1.1.0 in c:\\users\\jakub\\anaconda3\\lib\\site-packages (from tensorflow-gpu->bert-text) (1.1.0)\n",
      "Requirement already satisfied: keras-applications>=1.0.8 in c:\\users\\jakub\\anaconda3\\lib\\site-packages (from tensorflow-gpu->bert-text) (1.0.8)\n",
      "Collecting opt-einsum>=2.3.2 (from tensorflow-gpu->bert-text)\n",
      "  Downloading https://files.pythonhosted.org/packages/b8/83/755bd5324777875e9dff19c2e59daec837d0378c09196634524a3d7269ac/opt_einsum-3.1.0.tar.gz (69kB)\n",
      "Collecting google-pasta>=0.1.6 (from tensorflow-gpu->bert-text)\n",
      "  Downloading https://files.pythonhosted.org/packages/c3/fd/1e86bc4837cc9a3a5faf3db9b1854aa04ad35b5f381f9648fbe81a6f94e4/google_pasta-0.1.8-py3-none-any.whl (57kB)\n",
      "Requirement already satisfied: protobuf>=3.6.1 in c:\\users\\jakub\\anaconda3\\lib\\site-packages (from tensorflow-gpu->bert-text) (3.10.1)\n",
      "Requirement already satisfied: pytz>=2017.2 in c:\\users\\jakub\\anaconda3\\lib\\site-packages (from pandas->bert-text) (2019.3)\n",
      "Requirement already satisfied: python-dateutil>=2.6.1 in c:\\users\\jakub\\anaconda3\\lib\\site-packages (from pandas->bert-text) (2.8.0)\n",
      "Requirement already satisfied: requests<3,>=2.21.0 in c:\\users\\jakub\\anaconda3\\lib\\site-packages (from tensorboard<2.1.0,>=2.0.0->tensorflow-gpu->bert-text) (2.22.0)\n",
      "Collecting google-auth<2,>=1.6.3 (from tensorboard<2.1.0,>=2.0.0->tensorflow-gpu->bert-text)\n",
      "  Downloading https://files.pythonhosted.org/packages/36/f8/84b5771faec3eba9fe0c91c8c5896364a8ba08852c0dea5ad2025026dd95/google_auth-1.10.0-py2.py3-none-any.whl (76kB)\n",
      "Requirement already satisfied: werkzeug>=0.11.15 in c:\\users\\jakub\\anaconda3\\lib\\site-packages (from tensorboard<2.1.0,>=2.0.0->tensorflow-gpu->bert-text) (0.16.0)\n",
      "Collecting google-auth-oauthlib<0.5,>=0.4.1 (from tensorboard<2.1.0,>=2.0.0->tensorflow-gpu->bert-text)\n",
      "  Downloading https://files.pythonhosted.org/packages/7b/b8/88def36e74bee9fce511c9519571f4e485e890093ab7442284f4ffaef60b/google_auth_oauthlib-0.4.1-py2.py3-none-any.whl\n",
      "Requirement already satisfied: setuptools>=41.0.0 in c:\\users\\jakub\\anaconda3\\lib\\site-packages (from tensorboard<2.1.0,>=2.0.0->tensorflow-gpu->bert-text) (42.0.2.post20191203)\n",
      "Requirement already satisfied: markdown>=2.6.8 in c:\\users\\jakub\\anaconda3\\lib\\site-packages (from tensorboard<2.1.0,>=2.0.0->tensorflow-gpu->bert-text) (3.1.1)\n",
      "Requirement already satisfied: h5py in c:\\users\\jakub\\anaconda3\\lib\\site-packages (from keras-applications>=1.0.8->tensorflow-gpu->bert-text) (2.9.0)\n",
      "Requirement already satisfied: certifi>=2017.4.17 in c:\\users\\jakub\\anaconda3\\lib\\site-packages (from requests<3,>=2.21.0->tensorboard<2.1.0,>=2.0.0->tensorflow-gpu->bert-text) (2019.11.28)\n",
      "Requirement already satisfied: urllib3!=1.25.0,!=1.25.1,<1.26,>=1.21.1 in c:\\users\\jakub\\anaconda3\\lib\\site-packages (from requests<3,>=2.21.0->tensorboard<2.1.0,>=2.0.0->tensorflow-gpu->bert-text) (1.24.2)\n",
      "Requirement already satisfied: idna<2.9,>=2.5 in c:\\users\\jakub\\anaconda3\\lib\\site-packages (from requests<3,>=2.21.0->tensorboard<2.1.0,>=2.0.0->tensorflow-gpu->bert-text) (2.8)\n",
      "Requirement already satisfied: chardet<3.1.0,>=3.0.2 in c:\\users\\jakub\\anaconda3\\lib\\site-packages (from requests<3,>=2.21.0->tensorboard<2.1.0,>=2.0.0->tensorflow-gpu->bert-text) (3.0.4)\n",
      "Collecting cachetools<5.0,>=2.0.0 (from google-auth<2,>=1.6.3->tensorboard<2.1.0,>=2.0.0->tensorflow-gpu->bert-text)\n",
      "  Downloading https://files.pythonhosted.org/packages/08/6a/abf83cb951617793fd49c98cb9456860f5df66ff89883c8660aa0672d425/cachetools-4.0.0-py3-none-any.whl\n",
      "Collecting pyasn1-modules>=0.2.1 (from google-auth<2,>=1.6.3->tensorboard<2.1.0,>=2.0.0->tensorflow-gpu->bert-text)\n",
      "  Downloading https://files.pythonhosted.org/packages/52/50/bb4cefca37da63a0c52218ba2cb1b1c36110d84dcbae8aa48cd67c5e95c2/pyasn1_modules-0.2.7-py2.py3-none-any.whl (131kB)\n",
      "Collecting rsa<4.1,>=3.1.4 (from google-auth<2,>=1.6.3->tensorboard<2.1.0,>=2.0.0->tensorflow-gpu->bert-text)\n",
      "  Downloading https://files.pythonhosted.org/packages/02/e5/38518af393f7c214357079ce67a317307936896e961e35450b70fad2a9cf/rsa-4.0-py2.py3-none-any.whl\n",
      "Requirement already satisfied: requests-oauthlib>=0.7.0 in c:\\users\\jakub\\anaconda3\\lib\\site-packages (from google-auth-oauthlib<0.5,>=0.4.1->tensorboard<2.1.0,>=2.0.0->tensorflow-gpu->bert-text) (1.3.0)\n",
      "Collecting pyasn1<0.5.0,>=0.4.6 (from pyasn1-modules>=0.2.1->google-auth<2,>=1.6.3->tensorboard<2.1.0,>=2.0.0->tensorflow-gpu->bert-text)\n",
      "  Downloading https://files.pythonhosted.org/packages/62/1e/a94a8d635fa3ce4cfc7f506003548d0a2447ae76fd5ca53932970fe3053f/pyasn1-0.4.8-py2.py3-none-any.whl (77kB)\n",
      "Requirement already satisfied: oauthlib>=3.0.0 in c:\\users\\jakub\\anaconda3\\lib\\site-packages (from requests-oauthlib>=0.7.0->google-auth-oauthlib<0.5,>=0.4.1->tensorboard<2.1.0,>=2.0.0->tensorflow-gpu->bert-text) (3.1.0)\n",
      "Building wheels for collected packages: gast, opt-einsum\n",
      "  Building wheel for gast (setup.py): started\n",
      "  Building wheel for gast (setup.py): finished with status 'done'\n",
      "  Created wheel for gast: filename=gast-0.2.2-cp37-none-any.whl size=7546 sha256=de88dcf7d2fdf2462d4b9aa5f72982bbac71e6f431804b3cf64df8d69a7ba7a0\n",
      "  Stored in directory: C:\\Users\\Jakub\\AppData\\Local\\pip\\Cache\\wheels\\5c\\2e\\7e\\a1d4d4fcebe6c381f378ce7743a3ced3699feb89bcfbdadadd\n",
      "  Building wheel for opt-einsum (setup.py): started\n",
      "  Building wheel for opt-einsum (setup.py): finished with status 'done'\n",
      "  Created wheel for opt-einsum: filename=opt_einsum-3.1.0-cp37-none-any.whl size=61701 sha256=f6ca4badc21b76547147e21498fb88d356798883b09eab99bfaf6b34d9bb1f34\n",
      "  Stored in directory: C:\\Users\\Jakub\\AppData\\Local\\pip\\Cache\\wheels\\2c\\b1\\94\\43d03e130b929aae7ba3f8d15cbd7bc0d1cb5bb38a5c721833\n",
      "Successfully built gast opt-einsum\n",
      "Installing collected packages: cachetools, pyasn1, pyasn1-modules, rsa, google-auth, google-auth-oauthlib, tensorboard, gast, tensorflow-estimator, opt-einsum, google-pasta, tensorflow-gpu, bert-text\n",
      "  Found existing installation: tensorboard 1.13.1\n",
      "    Uninstalling tensorboard-1.13.1:\n",
      "      Successfully uninstalled tensorboard-1.13.1\n",
      "  Found existing installation: gast 0.3.2\n",
      "    Uninstalling gast-0.3.2:\n",
      "      Successfully uninstalled gast-0.3.2\n",
      "  Found existing installation: tensorflow-estimator 1.13.0\n",
      "    Uninstalling tensorflow-estimator-1.13.0:\n",
      "      Successfully uninstalled tensorflow-estimator-1.13.0\n",
      "Successfully installed bert-text-0.1.0 cachetools-4.0.0 gast-0.2.2 google-auth-1.10.0 google-auth-oauthlib-0.4.1 google-pasta-0.1.8 opt-einsum-3.1.0 pyasn1-0.4.8 pyasn1-modules-0.2.7 rsa-4.0 tensorboard-2.0.2 tensorflow-estimator-2.0.1 tensorflow-gpu-2.0.0\n"
     ]
    },
    {
     "name": "stderr",
     "output_type": "stream",
     "text": [
      "ERROR: tensorflow 1.13.1 has requirement tensorboard<1.14.0,>=1.13.0, but you'll have tensorboard 2.0.2 which is incompatible.\n",
      "ERROR: tensorflow 1.13.1 has requirement tensorflow-estimator<1.14.0rc0,>=1.13.0, but you'll have tensorflow-estimator 2.0.1 which is incompatible.\n",
      "ERROR: tensorboard 2.0.2 has requirement grpcio>=1.24.3, but you'll have grpcio 1.16.1 which is incompatible.\n"
     ]
    },
    {
     "ename": "ModuleNotFoundError",
     "evalue": "No module named 'bert_text'",
     "output_type": "error",
     "traceback": [
      "\u001b[1;31m---------------------------------------------------------------------------\u001b[0m",
      "\u001b[1;31mModuleNotFoundError\u001b[0m                       Traceback (most recent call last)",
      "\u001b[1;32m<ipython-input-1-6427fb30851c>\u001b[0m in \u001b[0;36m<module>\u001b[1;34m\u001b[0m\n\u001b[0;32m      1\u001b[0m \u001b[0mget_ipython\u001b[0m\u001b[1;33m(\u001b[0m\u001b[1;33m)\u001b[0m\u001b[1;33m.\u001b[0m\u001b[0msystem\u001b[0m\u001b[1;33m(\u001b[0m\u001b[1;34m'pip install bert-text'\u001b[0m\u001b[1;33m)\u001b[0m\u001b[1;33m\u001b[0m\u001b[1;33m\u001b[0m\u001b[0m\n\u001b[1;32m----> 2\u001b[1;33m \u001b[1;32mfrom\u001b[0m \u001b[0mbert_text\u001b[0m \u001b[1;32mimport\u001b[0m \u001b[0mrun_on_dfs\u001b[0m\u001b[1;33m\u001b[0m\u001b[1;33m\u001b[0m\u001b[0m\n\u001b[0m\u001b[0;32m      3\u001b[0m \u001b[1;33m\u001b[0m\u001b[0m\n\u001b[0;32m      4\u001b[0m \u001b[1;32mimport\u001b[0m \u001b[0mlogging\u001b[0m\u001b[1;33m\u001b[0m\u001b[1;33m\u001b[0m\u001b[0m\n\u001b[0;32m      5\u001b[0m \u001b[1;32mimport\u001b[0m \u001b[0mtime\u001b[0m\u001b[1;33m\u001b[0m\u001b[1;33m\u001b[0m\u001b[0m\n",
      "\u001b[1;31mModuleNotFoundError\u001b[0m: No module named 'bert_text'"
     ]
    }
   ],
   "source": [
    "!pip install bert-text\n",
    "from bert_text import run_on_dfs\n",
    "\n",
    "import logging\n",
    "import time\n",
    "from platform import python_version\n",
    "from atis_dataset_loader import load_atis\n",
    "import matplotlib\n",
    "import matplotlib.pyplot as plt\n",
    "import numpy as np\n",
    "import pandas as pd\n",
    "import sklearn\n",
    "import torch\n",
    "import torch.nn as nn\n",
    "import torch.nn.functional as F\n",
    "import transformers\n",
    "from sklearn.metrics import roc_auc_score\n",
    "from torch.autograd import Variable"
   ]
  },
  {
   "cell_type": "code",
   "execution_count": null,
   "metadata": {
    "pycharm": {
     "metadata": false,
     "name": "#%%\n"
    }
   },
   "outputs": [],
   "source": [
    "print(\"python version==%s\" % python_version())\n",
    "print(\"pandas==%s\" % pd.__version__)\n",
    "print(\"numpy==%s\" % np.__version__)\n",
    "print(\"torch==%s\" % torch.__version__)\n",
    "print(\"sklearn==%s\" % sklearn.__version__)\n",
    "print(\"transformers==%s\" % transformers.__version__)\n",
    "print(\"matplotlib==%s\" % matplotlib.__version__)"
   ]
  },
  {
   "cell_type": "raw",
   "metadata": {
    "pycharm": {
     "metadata": false
    }
   },
   "source": [
    " loading the ATIS dataset"
   ]
  },
  {
   "cell_type": "code",
   "execution_count": null,
   "metadata": {
    "pycharm": {
     "metadata": false,
     "name": "#%%\n"
    }
   },
   "outputs": [],
   "source": [
    "# load ATIS training dataset\n",
    "t2i_train, s2i_train, in2i_train, i2t_train, i2s_train, i2in_train, \\\n",
    "input_tensor_train, target_tensor_train, \\\n",
    "query_data_train, intent_data_train, intent_data_label_train, slot_data_train = load_atis('data/atis.train.pkl')\n",
    "\n",
    "# load ATIS testing dataset\n",
    "t2i_test, s2i_test, in2i_test, i2t_test, i2s_test, i2in_test, \\\n",
    "input_tensor_test, target_tensor_test, \\\n",
    "query_data_test, intent_data_test, intent_data_label_test, slot_data_test = load_atis('data/atis.test.pkl')\n",
    "\n"
   ]
  },
  {
   "cell_type": "code",
   "execution_count": null,
   "metadata": {
    "pycharm": {
     "metadata": false,
     "name": "#%%\n"
    }
   },
   "outputs": [],
   "source": [
    "labels = intent_data_label_train\n",
    "plt.hist(labels)\n",
    "plt.xlabel('intent')\n",
    "plt.ylabel('nb samples')\n",
    "plt.title('intent distribution')\n",
    "plt.xticks(np.arange(len(np.unique(labels))));\n"
   ]
  }
 ],
 "metadata": {
  "kernelspec": {
   "display_name": "Python 3",
   "language": "python",
   "name": "python3"
  },
  "language_info": {
   "codemirror_mode": {
    "name": "ipython",
    "version": 3
   },
   "file_extension": ".py",
   "mimetype": "text/x-python",
   "name": "python",
   "nbconvert_exporter": "python",
   "pygments_lexer": "ipython3",
   "version": "3.7.4"
  },
  "stem_cell": {
   "cell_type": "raw",
   "metadata": {
    "pycharm": {
     "metadata": false
    }
   },
   "source": ""
  }
 },
 "nbformat": 4,
 "nbformat_minor": 4
}
