{
  "cells": [
    {
      "cell_type": "code",
      "execution_count": null,
      "outputs": [],
      "source": "%matplotlib inline",
      "metadata": {
        "pycharm": {
          "metadata": false,
          "name": "#%%\n"
        }
      }
    },
    {
      "cell_type": "code",
      "execution_count": null,
      "outputs": [],
      "source": "import logging\nimport time\nfrom platform import python_version\nfrom atis_dataset_loader import load_atis\nimport matplotlib\nimport matplotlib.pyplot as plt\nimport numpy as np\nimport pandas as pd\nimport sklearn\nimport torch\nimport torch.nn as nn\nimport torch.nn.functional as F\nimport transformers\nfrom sklearn.metrics import roc_auc_score\nfrom torch.autograd import Variable",
      "metadata": {
        "pycharm": {
          "metadata": false,
          "name": "#%%\n"
        }
      }
    },
    {
      "cell_type": "code",
      "execution_count": null,
      "outputs": [],
      "source": "print(\"python version\u003d\u003d%s\" % python_version())\nprint(\"pandas\u003d\u003d%s\" % pd.__version__)\nprint(\"numpy\u003d\u003d%s\" % np.__version__)\nprint(\"torch\u003d\u003d%s\" % torch.__version__)\nprint(\"sklearn\u003d\u003d%s\" % sklearn.__version__)\nprint(\"transformers\u003d\u003d%s\" % transformers.__version__)\nprint(\"matplotlib\u003d\u003d%s\" % matplotlib.__version__)",
      "metadata": {
        "pycharm": {
          "metadata": false,
          "name": "#%%\n"
        }
      }
    },
    {
      "cell_type": "raw",
      "source": " loading the ATIS dataset",
      "metadata": {
        "pycharm": {
          "metadata": false
        }
      }
    },
    {
      "cell_type": "code",
      "execution_count": null,
      "outputs": [],
      "source": "# load ATIS training dataset\nt2i_train, s2i_train, in2i_train, i2t_train, i2s_train, i2in_train, \\\ninput_tensor_train, target_tensor_train, \\\nquery_data_train, intent_data_train, intent_data_label_train, slot_data_train \u003d load_atis(\u0027data/atis.train.pkl\u0027)\n\n# load ATIS testing dataset\nt2i_test, s2i_test, in2i_test, i2t_test, i2s_test, i2in_test, \\\ninput_tensor_test, target_tensor_test, \\\nquery_data_test, intent_data_test, intent_data_label_test, slot_data_test \u003d load_atis(\u0027data/atis.test.pkl\u0027)\n\n",
      "metadata": {
        "pycharm": {
          "metadata": false,
          "name": "#%%\n"
        }
      }
    },
    {
      "cell_type": "code",
      "execution_count": null,
      "outputs": [],
      "source": "labels \u003d intent_data_label_train\nplt.hist(labels)\nplt.xlabel(\u0027intent\u0027)\nplt.ylabel(\u0027nb samples\u0027)\nplt.title(\u0027intent distribution\u0027)\nplt.xticks(np.arange(len(np.unique(labels))));\n",
      "metadata": {
        "pycharm": {
          "metadata": false,
          "name": "#%%\n"
        }
      }
    }
  ],
  "metadata": {
    "kernelspec": {
      "display_name": "Python 3",
      "language": "python",
      "name": "python3"
    },
    "language_info": {
      "codemirror_mode": {
        "name": "ipython",
        "version": 3
      },
      "file_extension": ".py",
      "mimetype": "text/x-python",
      "name": "python",
      "nbconvert_exporter": "python",
      "pygments_lexer": "ipython3",
      "version": "3.7.4"
    },
    "stem_cell": {
      "cell_type": "raw",
      "source": "",
      "metadata": {
        "pycharm": {
          "metadata": false
        }
      }
    }
  },
  "nbformat": 4,
  "nbformat_minor": 4
}